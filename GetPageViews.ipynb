{
 "cells": [
  {
   "cell_type": "markdown",
   "metadata": {},
   "source": [
    "# Get Page Views \n",
    "This notebook takes as input files containing the covid related pages per language (wiki_db) and retrieves all the users pageviews (filterting out bots and other automated traffic) to those pages and their redirects. \n",
    "\n",
    "For example given an article Covid-19 Pandemic in English Wikipedia the script does the following:\n",
    "\n",
    "* Gathers all the pages that [redirects](https://en.wikipedia.org/w/index.php?title=Special:WhatLinksHere/COVID-19_pandemic&hidetrans=1&hidelinks=1&limit=500) to that article.  (eg. 2019-20 outbreak of novel coronavirus, Outbreak of novel coronavirus (2019-nCoV),etc) \n",
    "* Then take all the pageviews coming from users, filtering out bots and other automated traffic.\n",
    "* And finally adding all the pageviews for the target and redirects, day by day. \n"
   ]
  },
  {
   "cell_type": "markdown",
   "metadata": {},
   "source": [
    "## Get Pageviews with Redirects\n",
    "This notebook uses the [Wikimedia Pageviews API](https://wikitech.wikimedia.org/wiki/Analytics/AQS/Pageviews) to get the views on articles related with Covid.\n",
    "\n",
    "Note that we solve all the redirects, meaning that for a view on page X, we take all the articles that redirects to X and add them to the total views of X.\n",
    "\n"
   ]
  },
  {
   "cell_type": "code",
   "execution_count": 1,
   "metadata": {},
   "outputs": [],
   "source": [
    "import requests\n",
    "import pandas as pd\n",
    "### Functions to get pageviews per page\n",
    "### I'm not using mwviews package for this, because that have problems with non-latin characters\n",
    "\n",
    "\n",
    "def getRedirects(page,project):\n",
    "    '''\n",
    "    get all redirects (upto 500)\n",
    "    for a given page \n",
    "    '''\n",
    "    base_url = 'https://%s.org/w/api.php?action=query&titles=%s&prop=redirects&rdlimit=500&format=json' % (project,page)\n",
    "    data = [p['title'] for p in list(requests.get(base_url).json()['query']['pages'].values())[0]['redirects']]\n",
    "    return data\n",
    "    \n",
    "\n",
    "def getViews(page,start,end,project,user_agent='user'):\n",
    "    \"\"\"\n",
    "    get pageviews using this API https://wikitech.wikimedia.org/wiki/Analytics/AQS/Pageviews \n",
    "    page: str (article name)\n",
    "    start: str start date YYYYMMDD (20200101)\n",
    "    end: str end date YYYYMMDD (20200103)\n",
    "    project: str, ex: en.wikipedia (project does not include .org)\n",
    "    user_agent: str, 'user','spider','automated','all-agents'\n",
    "\n",
    "    \"\"\"\n",
    "    base_url = \"https://wikimedia.org/api/rest_v1/metrics/pageviews/per-article/%s/all-access/%s/%s/daily/%s/%s\" % (project,user_agent,page,start,end)\n",
    "    data = requests.get(base_url).json()['items']\n",
    "    df = pd.DataFrame(data) [['views','timestamp']]\n",
    "    df.rename(columns={'views':page},inplace=True)\n",
    "    df['timestamp'] = pd.to_datetime(df['timestamp'], format='%Y%m%d%H')\n",
    "    df.set_index('timestamp',inplace=True)\n",
    "    return df\n",
    "\n",
    "\n",
    "def getViewsWithRedirects(page,start,end,project):\n",
    "    \"\"\"\n",
    "    Get all redirects going to 'page' and get pageviews for that article\n",
    "    page: str (article's title)\n",
    "    start: str start date YYYYMMDD (20200101)\n",
    "    end: str end date YYYYMMDD (20200103)\n",
    "    project: str, ex: en.wikipedia (project does not include .org)\n",
    "    \"\"\"\n",
    "    #start list of page\n",
    "    pages = [page]\n",
    "    try:\n",
    "        #get all redirects to page \n",
    "        redirects = getRedirects(page=page,project=project)     \n",
    "    except:\n",
    "        #if getRedirects gives an error, we assume that there no pages redirecting to page\n",
    "        redirects = []\n",
    "        pages.extend(redirects)\n",
    "    ## get pages views for all articles\n",
    "    results = getViewsMultiples(pages=pages,start=start,end=end,project=project)\n",
    "        #sum all pages views\n",
    "    results = pd.DataFrame(results.sum(axis=1))\n",
    "    results.rename(columns={0:page},inplace=True)\n",
    "    return results    \n",
    "\n",
    "\n",
    "\n",
    "def getViewsMultiples(pages,start,end,project):\n",
    "    \"\"\"\n",
    "    Get page views for a list of pages \n",
    "    pages: list (list of article's titles) ex: ['Chile','Brasil','Argentina']\n",
    "    start: str start date YYYYMMDD (20200101)\n",
    "    end: str end date YYYYMMDD (20200103)\n",
    "    project: str, ex: en.wikipedia (project does not include .org)\n",
    "    \"\"\"\n",
    "    results = []\n",
    "    for page in pages:\n",
    "        try:\n",
    "            results.append(getViews(page,start,end,project))\n",
    "        except:\n",
    "            pass\n",
    "    return pd.concat(results,axis=1)\n",
    "\n",
    "def getViewsMultiplesWithRedirects(pages,start,end,project):\n",
    "    \"\"\"\n",
    "    Get page views for a list of pages considering the redirects for each page\n",
    "    pages: list (list of article's titles) ex: ['Chile','Brasil','Argentina']\n",
    "    start: str start date YYYYMMDD (20200101)\n",
    "    end: str end date YYYYMMDD (20200103)\n",
    "    project: str, ex: en.wikipedia (project does not include .org)\n",
    "    \"\"\"\n",
    "    results = []\n",
    "    for page in pages:\n",
    "        try:\n",
    "            results.append(getViewsWithRedirects(page,start,end,project))\n",
    "        except:\n",
    "            pass\n",
    "    return pd.concat(results,axis=1)"
   ]
  },
  {
   "cell_type": "code",
   "execution_count": 44,
   "metadata": {},
   "outputs": [],
   "source": [
    "#Reading input data\n",
    "import glob\n",
    "languages = glob.glob('wik*clean*csv')\n",
    "pages = {}\n",
    "for lang in languages:\n",
    "    langcode =lang[-10:-8]\n",
    "    pages[langcode] = pd.read_csv(lang)\n"
   ]
  },
  {
   "cell_type": "code",
   "execution_count": 46,
   "metadata": {},
   "outputs": [
    {
     "name": "stdout",
     "output_type": "stream",
     "text": [
      "zh\n"
     ]
    }
   ],
   "source": [
    "views = {}\n",
    "for langcode,data in pages.items():\n",
    "    print(langcode)\n",
    "    page_list = data['page_title'].tolist()\n",
    "    views[langcode] = getViewsMultiplesWithRedirects(pages=page_list ,start='20200101',end='20200825',project='%s.wikipedia' % langcode)\n",
    "    views[langcode].to_csv('Views_nobots_%s.csv' % langcode)"
   ]
  },
  {
   "cell_type": "code",
   "execution_count": 47,
   "metadata": {},
   "outputs": [],
   "source": [
    "import pickle\n",
    "with open('wikpedia_lists_views.pickle','wb') as f:\n",
    "    pickle.dump(views,f)"
   ]
  }
 ],
 "metadata": {
  "kernelspec": {
   "display_name": "Python 3",
   "language": "python",
   "name": "python3"
  },
  "language_info": {
   "codemirror_mode": {
    "name": "ipython",
    "version": 3
   },
   "file_extension": ".py",
   "mimetype": "text/x-python",
   "name": "python",
   "nbconvert_exporter": "python",
   "pygments_lexer": "ipython3",
   "version": "3.7.3"
  },
  "toc": {
   "base_numbering": 1,
   "nav_menu": {},
   "number_sections": true,
   "sideBar": true,
   "skip_h1_title": false,
   "title_cell": "Table of Contents",
   "title_sidebar": "Contents",
   "toc_cell": false,
   "toc_position": {},
   "toc_section_display": true,
   "toc_window_display": false
  },
  "varInspector": {
   "cols": {
    "lenName": 16,
    "lenType": 16,
    "lenVar": 40
   },
   "kernels_config": {
    "python": {
     "delete_cmd_postfix": "",
     "delete_cmd_prefix": "del ",
     "library": "var_list.py",
     "varRefreshCmd": "print(var_dic_list())"
    },
    "r": {
     "delete_cmd_postfix": ") ",
     "delete_cmd_prefix": "rm(",
     "library": "var_list.r",
     "varRefreshCmd": "cat(var_dic_list()) "
    }
   },
   "types_to_exclude": [
    "module",
    "function",
    "builtin_function_or_method",
    "instance",
    "_Feature"
   ],
   "window_display": false
  }
 },
 "nbformat": 4,
 "nbformat_minor": 4
}
